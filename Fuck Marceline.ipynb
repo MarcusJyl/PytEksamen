{
 "cells": [
  {
   "cell_type": "code",
   "execution_count": null,
   "metadata": {},
   "outputs": [],
   "source": []
  },
  {
   "cell_type": "code",
   "execution_count": 72,
   "metadata": {},
   "outputs": [
    {
     "name": "stdout",
     "output_type": "stream",
     "text": [
      "Habitat = Forests\n",
      "Habitat = Forests\n",
      "Food = Omnivore\n",
      "Nesting = Tree\n",
      "Behavior = Ground  = Forager\n",
      "Conservation = Low  = Concer\n"
     ]
    }
   ],
   "source": [
    "## import requests\n",
    "from bs4 import BeautifulSoup\n",
    "import re\n",
    "\n",
    "\n",
    "\n",
    "def getFood(bird):\n",
    "    url = \"https://www.allaboutbirds.org/guide/\" + bird + \"/\"\n",
    "    result = requests.get(url)\n",
    "    c = result.content\n",
    "    soup = BeautifulSoup(c)\n",
    "\n",
    "    str1=\"\"\n",
    "    article_text3 = ''\n",
    "    article = soup.find(\"ul\", {\"class\":\"LH-menu\"}).findAll('span', {\"class\":\"text-label\"})\n",
    "    for element in article:\n",
    "        element = ''.join(element.findAll(text = True))\n",
    "        elementList = re.findall('[A-Z][^A-Z]*', element)\n",
    "        for ele in elementList: \n",
    "            str1 += ele + \" = \"  \n",
    "        str1 = str1[:-3]\n",
    "        str1 += \"\\n\"\n",
    "\n",
    "    return str1[:-2]\n",
    "\n",
    "print(getFood(\"Blue_Jay\"))\n",
    "\n"
   ]
  },
  {
   "cell_type": "code",
   "execution_count": 24,
   "metadata": {},
   "outputs": [
    {
     "name": "stdout",
     "output_type": "stream",
     "text": [
      "Basic description\n",
      "\n",
      "This common, large songbird is familiar to many people, with its perky crest; blue, white, and black plumage; and noisy calls. Blue Jays are known for their intelligence and complex social systems with tight family bonds. Their fondness for acorns is credited with helping spread oak trees after the last glacial period.\n",
      "\n",
      "Cool facts \n",
      "\n",
      "Thousands of Blue Jays migrate in flocks along the Great Lakes and Atlantic coasts, but much about their migration remains a mystery. Some are present throughout winter in all parts of their range. Young jays may be more likely to migrate than adults, but many adults also migrate. Some individual jays migrate south one year, stay north the next winter, and then migrate south again the next year. No one has worked out why they migrate when they do.\n",
      "\n",
      "Blue Jays are known to take and eat eggs and nestlings of other birds, but we don’t know how common this is. In an extensive study of Blue Jay feeding habits, only 1% of jays had evidence of eggs or birds in their stomachs. Most of their diet was composed of insects and nuts.\n",
      "\n",
      "The Blue Jay frequently mimics the calls of hawks, especially the Red-shouldered Hawk. These calls may provide information to other jays that a hawk is around, or may be used to deceive other species into believing a hawk is present.\n",
      "\n",
      "Tool use has never been reported for wild Blue Jays, but captive Blue Jays used strips of newspaper to rake in food pellets from outside their cages.\n",
      "\n",
      "Blue Jays lower their crests when they are feeding peacefully with family and flock members or tending to nestlings.\n",
      "\n",
      "At feeders in Florida, Red-headed Woodpeckers, Florida Scrub-Jays, Common Grackles, and gray squirrels strongly dominate Blue Jays, often preventing them from obtaining food.\n",
      "\n",
      "The pigment in Blue Jay feathers is melanin, which is brown. The blue color is caused by scattering light through modified cells on the surface of the feather barbs.\n",
      "\n",
      "The black bridle across the face, nape, and throat varies extensively and may help Blue Jays recognize one another.\n",
      "\n",
      "The oldest known wild, banded Blue Jay was at least 26 years, 11 months old when it was found dead after being caught in fishing gear. It had been banded in the Newfoundland/Labrador/St. Pierre et Miquelon area in 1989 and was found there in 2016.\n",
      "\n"
     ]
    }
   ],
   "source": [
    "import requests\n",
    "from bs4 import BeautifulSoup\n",
    "\n",
    "def getArticle(bird):\n",
    "    url = \"https://www.allaboutbirds.org/guide/\" + bird + \"/\"\n",
    "    result = requests.get(url)\n",
    "    c = result.content\n",
    "    soup = BeautifulSoup(c)\n",
    "\n",
    "    article_text = 'Basic description\\n'\n",
    "    article = soup.find(\"div\", {\"class\":\"speciesInfoCard float clearfix\"}).findAll('p')\n",
    "    for element in article:\n",
    "        article_text += '\\n' + ''.join(element.findAll(text = True))\n",
    "        \n",
    "    article_text += '\\n\\nCool facts \\n'\n",
    "    article2 = soup.find(\"div\", {\"class\":\"accordion-content\"}).findAll('li')\n",
    "    for element in article2:\n",
    "        article_text += '\\n' + ''.join(element.findAll(text = True)) + \"\\n\"\n",
    "    return article_text\n",
    "print(getArticle(\"Blue_Jay\"))\n",
    "\n"
   ]
  }
 ],
 "metadata": {
  "kernelspec": {
   "display_name": "Python 3",
   "language": "python",
   "name": "python3"
  },
  "language_info": {
   "codemirror_mode": {
    "name": "ipython",
    "version": 3
   },
   "file_extension": ".py",
   "mimetype": "text/x-python",
   "name": "python",
   "nbconvert_exporter": "python",
   "pygments_lexer": "ipython3",
   "version": "3.7.6"
  }
 },
 "nbformat": 4,
 "nbformat_minor": 4
}
