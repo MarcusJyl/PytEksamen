{
 "cells": [
  {
   "cell_type": "markdown",
   "metadata": {},
   "source": [
    "### Read txt files"
   ]
  },
  {
   "cell_type": "code",
   "execution_count": 51,
   "metadata": {},
   "outputs": [],
   "source": [
    "images = \"images.txt\"\n",
    "train_test_split = \"train_test_split.txt\"\n",
    "classes = \"classes.txt\"\n",
    "image_class_labels = \"image_class_labels.txt\"\n",
    "\n",
    "def load_txt():\n",
    "    img_dic = {}\n",
    "    train_dic = {}\n",
    "    class_dic = {}\n",
    "    image_class_dic = {}\n",
    "    \n",
    "    with open(images) as img_object:\n",
    "        for line in img_object:\n",
    "            vals = line.replace('\\n', '').split(' ')\n",
    "            img_dic[vals[0]] = vals[1]\n",
    "            \n",
    "    with open(train_test_split) as train_object:\n",
    "        for line in train_object:\n",
    "            vals = line.replace('\\n', '').split(' ')\n",
    "            train_dic[vals[0]] = vals[1]\n",
    "            \n",
    "    with open(classes) as class_object:\n",
    "        for line in class_object:\n",
    "            vals = line.replace('\\n', '').split(' ')\n",
    "            key = vals[0]\n",
    "            vals.remove(key)\n",
    "            val = ' '.join(vals)\n",
    "            class_dic[key] = (val)\n",
    "            \n",
    "    with open(image_class_labels) as image_class_object:\n",
    "        for line in image_class_object:\n",
    "            vals = line.replace('\\n', '').split(' ')\n",
    "            image_class_dic[vals[0]] = vals[1]\n",
    "    \n",
    "    image_infos = []\n",
    "    for key in img_dic:\n",
    "        location = img_dic[key]\n",
    "        isTraining = bool(int(train_dic[key]))\n",
    "        class_name = class_dic[image_class_dic[key]]\n",
    "        image_infos.append([location, isTraining, class_name])\n",
    "    return image_infos\n",
    "\n",
    "def getTestInfo():\n",
    "    data = [d for d in load_txt() if d[1] == True]\n",
    "    return data\n",
    "\n",
    "def getTrainInfo():\n",
    "    data = [d for d in load_txt() if d[1] == False]\n",
    "    return data\n",
    "         "
   ]
  },
  {
   "cell_type": "code",
   "execution_count": 54,
   "metadata": {},
   "outputs": [],
   "source": [
    "from keras.preprocessing.image import load_img\n",
    "from keras.preprocessing.image import img_to_array\n",
    "\n",
    "def load_image(filename):\n",
    "    # load the image\n",
    "    img = load_img(filename, target_size=(224, 224))\n",
    "    # convert to array\n",
    "    img = img_to_array(img)\n",
    "    # reshape into a single sample with 3 channels\n",
    "    img = img.reshape(1,224,224,3)\n",
    "    \n",
    "    img = img.astype('float32')  \n",
    "    img = img - [123.68, 116.779, 103.939]  \n",
    "    return img"
   ]
  },
  {
   "cell_type": "code",
   "execution_count": null,
   "metadata": {},
   "outputs": [],
   "source": []
  },
  {
   "cell_type": "code",
   "execution_count": null,
   "metadata": {},
   "outputs": [],
   "source": []
  },
  {
   "cell_type": "code",
   "execution_count": null,
   "metadata": {},
   "outputs": [],
   "source": []
  },
  {
   "cell_type": "code",
   "execution_count": null,
   "metadata": {},
   "outputs": [],
   "source": []
  },
  {
   "cell_type": "code",
   "execution_count": null,
   "metadata": {},
   "outputs": [],
   "source": []
  },
  {
   "cell_type": "code",
   "execution_count": null,
   "metadata": {},
   "outputs": [],
   "source": []
  },
  {
   "cell_type": "code",
   "execution_count": null,
   "metadata": {},
   "outputs": [],
   "source": []
  }
 ],
 "metadata": {
  "kernelspec": {
   "display_name": "Python 3",
   "language": "python",
   "name": "python3"
  },
  "language_info": {
   "codemirror_mode": {
    "name": "ipython",
    "version": 3
   },
   "file_extension": ".py",
   "mimetype": "text/x-python",
   "name": "python",
   "nbconvert_exporter": "python",
   "pygments_lexer": "ipython3",
   "version": "3.7.6"
  }
 },
 "nbformat": 4,
 "nbformat_minor": 4
}
